{
 "cells": [
  {
   "cell_type": "code",
   "execution_count": 1,
   "metadata": {},
   "outputs": [],
   "source": [
    "from langchain_community.embeddings import HuggingFaceEmbeddings\n",
    "from langchain_community.document_loaders.csv_loader import CSVLoader\n"
   ]
  },
  {
   "cell_type": "code",
   "execution_count": 2,
   "metadata": {},
   "outputs": [],
   "source": [
    "# Importing FAISS, but other vectors stores can be found here:\n",
    "# https://python.langchain.com/docs/modules/data_connection/vectorstores/\n",
    "\n",
    "from langchain_community.vectorstores import FAISS\n"
   ]
  },
  {
   "cell_type": "code",
   "execution_count": 3,
   "metadata": {},
   "outputs": [],
   "source": [
    "# More pretrained models from sentence transformers:\n",
    "# https://www.sbert.net/docs/pretrained_models.html\n",
    "\n",
    "embeddings = HuggingFaceEmbeddings(\n",
    "    model_name=\"sentence-transformers/all-MiniLM-L6-v2\",\n",
    "    model_kwargs={\"device\": \"cuda\"},\n",
    "    encode_kwargs={\"normalize_embeddings\": False},\n",
    ")\n"
   ]
  },
  {
   "cell_type": "code",
   "execution_count": 6,
   "metadata": {},
   "outputs": [],
   "source": [
    "# \"Audio features and lyrics of Spotify songs\" dataset from\n",
    "# https://www.kaggle.com/datasets/imuhammad/audio-features-and-lyrics-of-spotify-songs?resource=download\n",
    "\n",
    "loader = CSVLoader(\n",
    "    file_path=\"../data/spotify-songs.csv\",\n",
    "    metadata_columns=[\n",
    "        \"track_id\",\n",
    "        \"track_popularity\",\n",
    "        \"track_album_id\",\n",
    "        \"track_album_release_date\",\n",
    "        \"playlist_id\",\n",
    "        \"danceability\",\n",
    "        \"energy\",\n",
    "        \"key\",\n",
    "        \"loudness\",\n",
    "        \"mode\",\n",
    "        \"speechiness\",\n",
    "        \"acousticness\",\n",
    "        \"instrumentalness\",\n",
    "        \"liveness\",\n",
    "        \"valence\",\n",
    "        \"tempo\",\n",
    "        \"duration_ms\",\n",
    "        \"language\",\n",
    "    ]\n",
    ")\n",
    "\n",
    "documents = loader.load()\n"
   ]
  },
  {
   "cell_type": "code",
   "execution_count": 7,
   "metadata": {},
   "outputs": [],
   "source": [
    "db = FAISS.from_documents(documents, embeddings)\n"
   ]
  },
  {
   "cell_type": "code",
   "execution_count": 9,
   "metadata": {},
   "outputs": [
    {
     "name": "stdout",
     "output_type": "stream",
     "text": [
      "1.2146938\n",
      "{'source': '../data/spotify-songs.csv', 'row': 14585, 'track_id': '6b2oQwSGFkzsMtQruIWm2p', 'track_popularity': '82', 'track_album_id': '6400dnyeDyD2mIFHfkwHXN', 'track_album_release_date': '1993-02-22', 'playlist_id': '4EYSGTuqe9cVfSVpX4gtGv', 'danceability': '0.515', 'energy': '0.43', 'key': '7', 'loudness': '-9.935', 'mode': '1', 'speechiness': '0.0369', 'acousticness': '0.0102', 'instrumentalness': '1.4099999999999998e-4', 'liveness': '0.129', 'valence': '0.104', 'tempo': '91.841', 'duration_ms': '238640', 'language': 'en'}\n",
      "track_name: Creep\n",
      "track_artist: Radiohead\n",
      "lyrics: When you were here before Couldn't look you in the eye You're just like an angel Your skin makes me cry You float like a feather In a beautiful world I wish I was special You're so fuckin' special But I'm a creep I'm a weirdo What the hell am I doing here? I don't belong here I don't care if it hurts I wanna have control I want a perfect body I want a perfect soul I want you to notice When I'm not around You're so fuckin' special I wish I was special But I'm a creep I'm a weirdo What the hell am I doing here? I don't belong here She's running out the door She's running out She run, run, run, run Run Whatever makes you happy Whatever you want You're so fuckin' special I wish I was special But I'm a creep I'm a weirdo What the hell am I doing here? I don't belong here I don't belong here\n",
      "track_album_name: Pablo Honey\n",
      "playlist_name: The Sound of Permanent Wave\n",
      "playlist_genre: rock\n",
      "playlist_subgenre: permanent wave\n"
     ]
    }
   ],
   "source": [
    "query = \"Creep\"\n",
    "doc, score = db.similarity_search_with_score(query)[0]\n",
    "print(score)\n",
    "print(doc.metadata)\n",
    "print(doc.page_content)\n"
   ]
  }
 ],
 "metadata": {
  "kernelspec": {
   "display_name": "Python 3",
   "language": "python",
   "name": "python3"
  },
  "language_info": {
   "codemirror_mode": {
    "name": "ipython",
    "version": 3
   },
   "file_extension": ".py",
   "mimetype": "text/x-python",
   "name": "python",
   "nbconvert_exporter": "python",
   "pygments_lexer": "ipython3",
   "version": "3.11.0"
  }
 },
 "nbformat": 4,
 "nbformat_minor": 2
}
